{
 "cells": [
  {
   "cell_type": "code",
   "execution_count": null,
   "metadata": {},
   "outputs": [],
   "source": [
    "import pandas as pd \n",
    "from reading_data import gerando_df"
   ]
  },
  {
   "cell_type": "code",
   "execution_count": null,
   "metadata": {},
   "outputs": [],
   "source": [
    "# coluna que deseja avaliar os sentimwentos\n",
    "coluna =\n",
    "\n",
    "# mudar para o seu diretório\n",
    "df = pd.read_excel()"
   ]
  },
  {
   "cell_type": "code",
   "execution_count": null,
   "metadata": {},
   "outputs": [],
   "source": [
    "# Solução paleativa para entregar rápido\n",
    "# revisar e inserir isso na função gerando_df\n",
    "df[coluna] = df[coluna].apply(lambda x: x.strip() if type(x) == str else x)\n",
    "df_remover = df.loc[df[coluna] == '']\n",
    "df = df.drop(df_remover.index)"
   ]
  },
  {
   "cell_type": "code",
   "execution_count": null,
   "metadata": {},
   "outputs": [],
   "source": [
    "resultado = gerando_df(coluna, df) # passar como parametro a coluna_desejada_desejada_desejada_desejada_desejada_desejada desejada e o dataframe\n",
    "resultado.to_excel() # passar o diretório para salvar o arquivo como string"
   ]
  }
 ],
 "metadata": {
  "kernelspec": {
   "display_name": "Python 3.10.6 64-bit",
   "language": "python",
   "name": "python3"
  },
  "language_info": {
   "codemirror_mode": {
    "name": "ipython",
    "version": 3
   },
   "file_extension": ".py",
   "mimetype": "text/x-python",
   "name": "python",
   "nbconvert_exporter": "python",
   "pygments_lexer": "ipython3",
   "version": "3.10.6"
  },
  "orig_nbformat": 4,
  "vscode": {
   "interpreter": {
    "hash": "916dbcbb3f70747c44a77c7bcd40155683ae19c65e1c03b4aa3499c5328201f1"
   }
  }
 },
 "nbformat": 4,
 "nbformat_minor": 2
}
